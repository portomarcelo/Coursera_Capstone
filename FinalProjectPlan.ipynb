{
 "cells": [
  {
   "cell_type": "markdown",
   "metadata": {},
   "source": [
    "# Applied Data Science Capstone\n",
    "## Project Outline\n",
    "### Marcelo Porto"
   ]
  },
  {
   "cell_type": "markdown",
   "metadata": {},
   "source": [
    "## Business Problem\n",
    "\n",
    "The skills learned during this course give us tools to solve some interesting problem. If you are deciding to open a new business, it might be interesting to explore a city and find a neighborhood where your business is needed.  \n",
    "Let's say you want to open a coffee shop. It wouldn't be interesting to open in an area where there are 3 Starbucks' already. We can use the Foursquare API to find neighborhoods where there might be a need for your new coffee shop.\n",
    "\n",
    "We can use clustering to find similar neighborhoods in the city that might support your plan: neighborhood X has a couple of coffee shops and it is similar to neighborhood Y. So it might be good to take our business to neighborhood Y if there isn't many coffee shops there already. Are neighborhoods X and Y similar enough if we remove coffee shops from the equation?\n",
    "\n",
    "### Target Audience\n",
    "\n",
    "Prospective business owners could use this to find the best location for their business.  \n",
    "City officials or the appropriate city departments could use this project to identify areas to invest in and attract new business, enhancing the value of possible up-and-coming neighborhoods."
   ]
  },
  {
   "cell_type": "markdown",
   "metadata": {},
   "source": [
    "## Data Required\n",
    "\n",
    "Some cities do not have postal codes. Abu Dhabi, in the United Arab Emirates, is one of the cities. So first I will need to search for a list of neighborhoods in Abu Dhabi. Then, I will need to find coordinates for each one of these neighborhoods with the geopy service. After this is done, I will be able to search the city for different venues with the Foursquare API, using this data to cluster and compare neighborhoods.\n",
    "\n",
    "For Abu Dhabi, [Wikipedia](https://en.wikipedia.org/wiki/Abu_Dhabi#Neighborhoods) provides a list of neighborhoods, which I can use to search for coordinates."
   ]
  }
 ],
 "metadata": {
  "kernelspec": {
   "display_name": "Python",
   "language": "python",
   "name": "conda-env-python-py"
  },
  "language_info": {
   "codemirror_mode": {
    "name": "ipython",
    "version": 3
   },
   "file_extension": ".py",
   "mimetype": "text/x-python",
   "name": "python",
   "nbconvert_exporter": "python",
   "pygments_lexer": "ipython3",
   "version": "3.6.10"
  }
 },
 "nbformat": 4,
 "nbformat_minor": 4
}
